{
 "cells": [
  {
   "cell_type": "code",
   "execution_count": 2,
   "metadata": {
    "code_folding": []
   },
   "outputs": [],
   "source": [
    "# Import libraries \n",
    "import pandas as pd\n",
    "import warnings\n",
    "warnings.filterwarnings(\"ignore\")"
   ]
  },
  {
   "cell_type": "code",
   "execution_count": 3,
   "metadata": {
    "code_folding": []
   },
   "outputs": [],
   "source": [
    "# Import the code for fetching GA Data\n",
    "from gaData import *"
   ]
  },
  {
   "cell_type": "code",
   "execution_count": 5,
   "metadata": {
    "code_folding": []
   },
   "outputs": [],
   "source": [
    "######### Configure the inputs ##################\n",
    "### Replace with your own view_id\n",
    "gaView = \"xxxxxxxx\"\n",
    "### Set the date range for your data\n",
    "start_date='2018-01-01'\n",
    "end_date='2018-11-30'\n",
    "### Replace with your own segmentId you found in Query Explorer\n",
    "segments = [{\"segmentId\": \"gaid::xxxxxxxxxxxxxx\"}]\n",
    "### To get data, we must have one metrics, here we use sessions\n",
    "metrics=[{\"expression\": \"ga:sessions\"}]\n",
    "### Replace with your own custom dimention ID and include segment also\n",
    "dimensions=[{\"name\": \"ga:dimensionXX\"},{\"name\": \"ga:segment\"}]\n",
    "### Your data will be grouped by the dimensions you use \n",
    "group_by = [\"ga:dimensionXX\",\"ga:segment\"]\n",
    "### Set your client secret path where you put your client credentials \n",
    "CLIENT_SECRETS_PATH = 'key/client_secret.json'"
   ]
  },
  {
   "cell_type": "code",
   "execution_count": 6,
   "metadata": {
    "code_folding": []
   },
   "outputs": [],
   "source": [
    "# Initiate the analytics client\n",
    "analytics = initialize_analyticsreporting(CLIENT_SECRETS_PATH)"
   ]
  },
  {
   "cell_type": "code",
   "execution_count": 7,
   "metadata": {
    "code_folding": []
   },
   "outputs": [
    {
     "name": "stdout",
     "output_type": "stream",
     "text": [
      "Running Time --- 1559.456502199173 seconds ---\n"
     ]
    },
    {
     "data": {
      "text/html": [
       "<div>\n",
       "<style scoped>\n",
       "    .dataframe tbody tr th:only-of-type {\n",
       "        vertical-align: middle;\n",
       "    }\n",
       "\n",
       "    .dataframe tbody tr th {\n",
       "        vertical-align: top;\n",
       "    }\n",
       "\n",
       "    .dataframe thead th {\n",
       "        text-align: right;\n",
       "    }\n",
       "</style>\n",
       "<table border=\"1\" class=\"dataframe\">\n",
       "  <thead>\n",
       "    <tr style=\"text-align: right;\">\n",
       "      <th></th>\n",
       "      <th>ga:dimension42</th>\n",
       "      <th>ga:segment</th>\n",
       "      <th>ga:sessions</th>\n",
       "    </tr>\n",
       "  </thead>\n",
       "  <tbody>\n",
       "    <tr>\n",
       "      <th>0</th>\n",
       "      <td>1001033209.1481225329</td>\n",
       "      <td>phoneNumber</td>\n",
       "      <td>2.0</td>\n",
       "    </tr>\n",
       "    <tr>\n",
       "      <th>1</th>\n",
       "      <td>1001090294.1528794762</td>\n",
       "      <td>phoneNumber</td>\n",
       "      <td>1.0</td>\n",
       "    </tr>\n",
       "    <tr>\n",
       "      <th>2</th>\n",
       "      <td>1007582195.1522236043</td>\n",
       "      <td>phoneNumber</td>\n",
       "      <td>3.0</td>\n",
       "    </tr>\n",
       "    <tr>\n",
       "      <th>3</th>\n",
       "      <td>1010110771.1512153214</td>\n",
       "      <td>phoneNumber</td>\n",
       "      <td>1.0</td>\n",
       "    </tr>\n",
       "    <tr>\n",
       "      <th>4</th>\n",
       "      <td>101499865.1532375076</td>\n",
       "      <td>phoneNumber</td>\n",
       "      <td>1.0</td>\n",
       "    </tr>\n",
       "  </tbody>\n",
       "</table>\n",
       "</div>"
      ],
      "text/plain": [
       "          ga:dimension42   ga:segment  ga:sessions\n",
       "0  1001033209.1481225329  phoneNumber          2.0\n",
       "1  1001090294.1528794762  phoneNumber          1.0\n",
       "2  1007582195.1522236043  phoneNumber          3.0\n",
       "3  1010110771.1512153214  phoneNumber          1.0\n",
       "4   101499865.1532375076  phoneNumber          1.0"
      ]
     },
     "execution_count": 7,
     "metadata": {},
     "output_type": "execute_result"
    }
   ],
   "source": [
    "######### Run the program to get data ##################\n",
    "start_time = time.time()\n",
    "data = return_ga_data(analytics,\n",
    "                      start_date= start_date,\n",
    "                      end_date=end_date,\n",
    "                      view_id=gaView,\n",
    "                      metrics=metrics,\n",
    "                      dimensions=dimensions,\n",
    "                      segments = segments,\n",
    "                      group_by = group_by)\n",
    "print(\"Running Time --- %s seconds ---\" % (time.time() - start_time))\n",
    "data.head()"
   ]
  },
  {
   "cell_type": "code",
   "execution_count": 11,
   "metadata": {},
   "outputs": [],
   "source": [
    "### Save your data to a csv file\n",
    "data.to_csv('result.csv')"
   ]
  }
 ],
 "metadata": {
  "kernelspec": {
   "display_name": "Python 3",
   "language": "python",
   "name": "python3"
  },
  "language_info": {
   "codemirror_mode": {
    "name": "ipython",
    "version": 3
   },
   "file_extension": ".py",
   "mimetype": "text/x-python",
   "name": "python",
   "nbconvert_exporter": "python",
   "pygments_lexer": "ipython3",
   "version": "3.6.4"
  },
  "latex_envs": {
   "LaTeX_envs_menu_present": true,
   "autoclose": false,
   "autocomplete": true,
   "bibliofile": "biblio.bib",
   "cite_by": "apalike",
   "current_citInitial": 1,
   "eqLabelWithNumbers": true,
   "eqNumInitial": 1,
   "hotkeys": {
    "equation": "Ctrl-E",
    "itemize": "Ctrl-I"
   },
   "labels_anchors": false,
   "latex_user_defs": false,
   "report_style_numbering": false,
   "user_envs_cfg": false
  }
 },
 "nbformat": 4,
 "nbformat_minor": 2
}
